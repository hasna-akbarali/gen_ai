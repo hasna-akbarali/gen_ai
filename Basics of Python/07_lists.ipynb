{
 "cells": [
  {
   "cell_type": "code",
   "execution_count": null,
   "metadata": {},
   "outputs": [
    {
     "name": "stdout",
     "output_type": "stream",
     "text": [
      "[] <class 'list'>\n",
      "[1, True, 'List', 4.7, 5] <class 'list'>\n",
      "[1, True, 'List', 4.7, 5] <class 'list'>\n",
      "[1, True, 'List', 4.7, 5] <class 'list'>\n",
      "[0, 1, 2, 3, 4, 5, 6, 7, 8, 9] <class 'list'>\n"
     ]
    }
   ],
   "source": [
    "# # Lists - collection of mutable items of any data types\n",
    "\n",
    "# 1. Create a list using empty square brackets []\n",
    "\n",
    "lst = []\n",
    "print(lst, type(lst))\n",
    "\n",
    "# 2. Create a list using square brackets and commas\n",
    "\n",
    "lst = [1, True, \"List\", 4.7, 5]\n",
    "print(lst, type(lst))\n",
    "\n",
    "# 3. Create a list using list function\n",
    "\n",
    "lst = list([1, True, \"List\", 4.7, 5])\n",
    "print(lst, type(lst))\n",
    "\n",
    "# 4. Create a list using eval function\n",
    "\n",
    "lst = eval(\"[1, True, 'List', 4.7, 5]\")\n",
    "print(lst, type(lst))\n",
    "\n",
    "# 5. Create a list using list comprehension\n",
    "\n",
    "lst = [i for i in range(10)]\n",
    "print(lst, type(lst))\n",
    "\n"
   ]
  },
  {
   "cell_type": "code",
   "execution_count": 15,
   "metadata": {},
   "outputs": [
    {
     "name": "stdout",
     "output_type": "stream",
     "text": [
      "Zero Index: Python\n",
      "Last Index: Go\n"
     ]
    }
   ],
   "source": [
    "# Access and Modify Lists\n",
    "\n",
    "## Accessing List Elements\n",
    "\n",
    "# Lists are indexed starting at 0. You can access a list element by using the index in square brackets after the list name. \n",
    "# For example, to access the first element in a list named `my_list`, you would use `my_list[0]`.\n",
    "\n",
    "programming_languages = ['Python', 'Java', 'C++', 'JavaScript', 'Ruby', 'PHP', 'Swift', 'Go']\n",
    "print('Zero Index:', programming_languages[0])\n",
    "print('Last Index:', programming_languages[-1])\n"
   ]
  },
  {
   "cell_type": "code",
   "execution_count": 31,
   "metadata": {},
   "outputs": [
    {
     "name": "stdout",
     "output_type": "stream",
     "text": [
      "['Java', 'C++']\n",
      "['Go', 'Swift', 'PHP', 'Ruby', 'JavaScript', 'C++', 'Java', 'Python']\n",
      "['Go', 'Swift', 'PHP']\n",
      "[]\n",
      "['Swift', 'PHP', 'Ruby', 'JavaScript', 'C++', 'Java', 'Python']\n",
      "['Swift', 'PHP', 'Ruby', 'JavaScript', 'C++', 'Java', 'Python']\n"
     ]
    }
   ],
   "source": [
    "# Slicing Lists - Slicing lists is a way to extract a portion of a list. The syntax for slicing a list is as follows:\n",
    "\n",
    "print(programming_languages[1:3])\n",
    "print(programming_languages[::-1])\n",
    "print(programming_languages[-1:4:-1])\n",
    "print(programming_languages[-2:0:]) # we get an empty list because we have to choose a direction, either forward or backward\n",
    "print(programming_languages[-2::-1]) # this works because my start,stop and step are in the same direction\n",
    "print(programming_languages[:-1][::-1])"
   ]
  },
  {
   "cell_type": "code",
   "execution_count": 38,
   "metadata": {},
   "outputs": [
    {
     "name": "stdout",
     "output_type": "stream",
     "text": [
      "added durian to fruits using append() ['apple', 'banana', 'cherry', 'durian']\n",
      "added durian to fruits using + ['apple', 'banana', 'cherry', 'durian']\n",
      "added durian and elderberry to fruits using extend() ['apple', 'banana', 'cherry', 'durian', 'elderberry']\n",
      "added durian to fruits using insert() ['apple', 'durian', 'banana', 'cherry']\n",
      "added durian and elderberry to fruits using extend() ['apple', 'banana', 'cherry', 'durian', 'elderberry']\n",
      "added durian and elderberry to fruits using append() ['apple', 'banana', 'cherry', ['durian', 'elderberry']]\n"
     ]
    }
   ],
   "source": [
    "# Add items to a list\n",
    "\n",
    "# 1. Using append()\n",
    "fruits = ['apple', 'banana', 'cherry']\n",
    "fruits.append('durian')\n",
    "print('added durian to fruits using append()', fruits)\n",
    "\n",
    "#2. Using the + operator\n",
    "fruits = ['apple', 'banana', 'cherry']\n",
    "fruits = fruits + ['durian']\n",
    "print('added durian to fruits using +', fruits)\n",
    "\n",
    "#3. Using the extend() method\n",
    "fruits = ['apple', 'banana', 'cherry']\n",
    "fruits.extend(['durian', 'elderberry'])\n",
    "print('added durian and elderberry to fruits using extend()', fruits)\n",
    "\n",
    "#4. Using the insert() method\n",
    "fruits = ['apple', 'banana', 'cherry']\n",
    "fruits.insert(1, 'durian')\n",
    "print('added durian to fruits using insert()', fruits)\n",
    "\n",
    "# Difference between append() and insert() - \n",
    "# append() adds an item to the end of the list\n",
    "# insert() adds an item at a specific index\n",
    "\n",
    "# Difference between extend() and append() - \n",
    "# extend() adds all the items in the list passed to it\n",
    "# append() adds the item passed to it\n",
    "\n",
    "# Eg: \n",
    "fruits = ['apple', 'banana', 'cherry']\n",
    "fruits.extend(['durian', 'elderberry'])\n",
    "print('added durian and elderberry to fruits using extend()', fruits)\n",
    "\n",
    "fruits = ['apple', 'banana', 'cherry']\n",
    "fruits.append(['durian', 'elderberry'])\n",
    "print('added durian and elderberry to fruits using append()', fruits)"
   ]
  },
  {
   "cell_type": "code",
   "execution_count": null,
   "metadata": {},
   "outputs": [
    {
     "name": "stdout",
     "output_type": "stream",
     "text": [
      "after pop ['banana', 'banana', 'cherry', 'durian', 'elderberry']\n",
      "after pop ['banana', 'banana', 'cherry', 'durian']\n",
      "after remove ['banana', 'cherry', 'durian']\n"
     ]
    }
   ],
   "source": [
    "# Delete items from a list\n",
    "fruits = ['apple', 'banana', 'banana', 'cherry', 'durian', 'elderberry']\n",
    "# Delete the first item in the list\n",
    "fruits.pop(0) # with index as 0\n",
    "print('after pop',fruits)\n",
    "\n",
    "fruits.pop() # by default, it will delete the last item\n",
    "print('after pop',fruits)\n",
    "\n",
    "fruits.remove(\"banana\") # delete the first occurence of the item\n",
    "print('after remove',fruits)\n"
   ]
  },
  {
   "cell_type": "code",
   "execution_count": 56,
   "metadata": {},
   "outputs": [
    {
     "name": "stdout",
     "output_type": "stream",
     "text": [
      "3\n",
      "['elderberry', 'durian', 'cherry', 'banana', 'banana', 'banana', 'apple']\n",
      "['apple', 'banana', 'banana', 'banana', 'cherry', 'durian', 'elderberry']\n",
      "['elderberry', 'durian', 'cherry', 'banana', 'banana', 'banana', 'apple']\n",
      "[]\n"
     ]
    }
   ],
   "source": [
    "# More built in methods for lists\n",
    "\n",
    "fruits = ['apple', 'banana', 'banana', 'cherry', 'durian', 'elderberry', 'banana']\n",
    "print(fruits.count('banana'))\n",
    "\n",
    "fruits.sort(reverse=True)\n",
    "print(fruits)\n",
    "\n",
    "fruits.sort()\n",
    "print(fruits)\n",
    "\n",
    "fruits.reverse()\n",
    "print(fruits)\n",
    "\n",
    "fruits.clear()\n",
    "print(fruits)"
   ]
  },
  {
   "cell_type": "code",
   "execution_count": 59,
   "metadata": {},
   "outputs": [
    {
     "name": "stdout",
     "output_type": "stream",
     "text": [
      "[0, 1, 4, 9, 16, 25, 36, 49, 64, 81]\n",
      "[0, 1, 4, 9, 16, 25, 36, 49, 64, 81]\n"
     ]
    }
   ],
   "source": [
    "# List comprehensions\n",
    "# - They are a one-liner that creates a list from an existing list.\n",
    "# - They are a concise way to create lists in Python.\n",
    "\n",
    "lst = []\n",
    "for i in range(10):\n",
    "    lst.append(i**2)\n",
    "print(lst)\n",
    "\n",
    "# instead of these 4 lines you can use list comprehension\n",
    "lst = [i**2 for i in range(10)]\n",
    "print(lst)"
   ]
  },
  {
   "cell_type": "code",
   "execution_count": 61,
   "metadata": {},
   "outputs": [
    {
     "name": "stdout",
     "output_type": "stream",
     "text": [
      "[1, 9, 25, 49, 81]\n"
     ]
    }
   ],
   "source": [
    "# Basic Syntax of List Comprehension - [exp for iter in iterable]\n",
    "# List Comprehension with if condition - [exp for iter in iterable if condition]\n",
    "\n",
    "odd_squares = [i**2 for i in range(10) if i%2==1]\n",
    "print(odd_squares)"
   ]
  },
  {
   "cell_type": "code",
   "execution_count": 66,
   "metadata": {},
   "outputs": [
    {
     "name": "stdout",
     "output_type": "stream",
     "text": [
      "[(0, 0), (1, 1), (2, 4), (3, 9), (4, 16), (5, 25), (6, 36), (7, 49), (8, 64), (9, 81)]\n",
      "[(0, 3), (0, 2), (1, 3), (1, 2), (2, 3)]\n"
     ]
    }
   ],
   "source": [
    "# Nested List Comprehension\n",
    "\n",
    "pair_of_squares = [(i, i*i) for i in range(10)]\n",
    "print(pair_of_squares)\n",
    "\n",
    "pairs = [(i,j) for i in range(3) for j in range(3,1,-1) if i != j]\n",
    "print(pairs)"
   ]
  },
  {
   "cell_type": "code",
   "execution_count": null,
   "metadata": {},
   "outputs": [],
   "source": []
  }
 ],
 "metadata": {
  "kernelspec": {
   "display_name": "myenv",
   "language": "python",
   "name": "python3"
  },
  "language_info": {
   "codemirror_mode": {
    "name": "ipython",
    "version": 3
   },
   "file_extension": ".py",
   "mimetype": "text/x-python",
   "name": "python",
   "nbconvert_exporter": "python",
   "pygments_lexer": "ipython3",
   "version": "3.12.4"
  }
 },
 "nbformat": 4,
 "nbformat_minor": 2
}
