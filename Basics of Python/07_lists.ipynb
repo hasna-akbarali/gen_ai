{
 "cells": [
  {
   "cell_type": "code",
   "execution_count": null,
   "metadata": {},
   "outputs": [
    {
     "name": "stdout",
     "output_type": "stream",
     "text": [
      "[] <class 'list'>\n",
      "[1, True, 'List', 4.7, 5] <class 'list'>\n",
      "[1, True, 'List', 4.7, 5] <class 'list'>\n",
      "[1, True, 'List', 4.7, 5] <class 'list'>\n",
      "[0, 1, 2, 3, 4, 5, 6, 7, 8, 9] <class 'list'>\n"
     ]
    }
   ],
   "source": [
    "# # Lists - collection of mutable items of any data types\n",
    "\n",
    "# 1. Create a list using empty square brackets []\n",
    "\n",
    "lst = []\n",
    "print(lst, type(lst))\n",
    "\n",
    "# 2. Create a list using square brackets and commas\n",
    "\n",
    "lst = [1, True, \"List\", 4.7, 5]\n",
    "print(lst, type(lst))\n",
    "\n",
    "# 3. Create a list using list function\n",
    "\n",
    "lst = list([1, True, \"List\", 4.7, 5])\n",
    "print(lst, type(lst))\n",
    "\n",
    "# 4. Create a list using eval function\n",
    "\n",
    "lst = eval(\"[1, True, 'List', 4.7, 5]\")\n",
    "print(lst, type(lst))\n",
    "\n",
    "# 5. Create a list using list comprehension\n",
    "\n",
    "lst = [i for i in range(10)]\n",
    "print(lst, type(lst))\n",
    "\n"
   ]
  },
  {
   "cell_type": "code",
   "execution_count": 15,
   "metadata": {},
   "outputs": [
    {
     "name": "stdout",
     "output_type": "stream",
     "text": [
      "Zero Index: Python\n",
      "Last Index: Go\n"
     ]
    }
   ],
   "source": [
    "# Access and Modify Lists\n",
    "\n",
    "## Accessing List Elements\n",
    "\n",
    "# Lists are indexed starting at 0. You can access a list element by using the index in square brackets after the list name. \n",
    "# For example, to access the first element in a list named `my_list`, you would use `my_list[0]`.\n",
    "\n",
    "programming_languages = ['Python', 'Java', 'C++', 'JavaScript', 'Ruby', 'PHP', 'Swift', 'Go']\n",
    "print('Zero Index:', programming_languages[0])\n",
    "print('Last Index:', programming_languages[-1])\n"
   ]
  },
  {
   "cell_type": "code",
   "execution_count": 31,
   "metadata": {},
   "outputs": [
    {
     "name": "stdout",
     "output_type": "stream",
     "text": [
      "['Java', 'C++']\n",
      "['Go', 'Swift', 'PHP', 'Ruby', 'JavaScript', 'C++', 'Java', 'Python']\n",
      "['Go', 'Swift', 'PHP']\n",
      "[]\n",
      "['Swift', 'PHP', 'Ruby', 'JavaScript', 'C++', 'Java', 'Python']\n",
      "['Swift', 'PHP', 'Ruby', 'JavaScript', 'C++', 'Java', 'Python']\n"
     ]
    }
   ],
   "source": [
    "# Slicing Lists - Slicing lists is a way to extract a portion of a list. The syntax for slicing a list is as follows:\n",
    "\n",
    "print(programming_languages[1:3])\n",
    "print(programming_languages[::-1])\n",
    "print(programming_languages[-1:4:-1])\n",
    "print(programming_languages[-2:0:]) # we get an empty list because we have to choose a direction, either forward or backward\n",
    "print(programming_languages[-2::-1]) # this works because my start,stop and step are in the same direction\n",
    "print(programming_languages[:-1][::-1])"
   ]
  },
  {
   "cell_type": "code",
   "execution_count": 38,
   "metadata": {},
   "outputs": [
    {
     "name": "stdout",
     "output_type": "stream",
     "text": [
      "added durian to fruits using append() ['apple', 'banana', 'cherry', 'durian']\n",
      "added durian to fruits using + ['apple', 'banana', 'cherry', 'durian']\n",
      "added durian and elderberry to fruits using extend() ['apple', 'banana', 'cherry', 'durian', 'elderberry']\n",
      "added durian to fruits using insert() ['apple', 'durian', 'banana', 'cherry']\n",
      "added durian and elderberry to fruits using extend() ['apple', 'banana', 'cherry', 'durian', 'elderberry']\n",
      "added durian and elderberry to fruits using append() ['apple', 'banana', 'cherry', ['durian', 'elderberry']]\n"
     ]
    }
   ],
   "source": [
    "# Add items to a list\n",
    "\n",
    "# 1. Using append()\n",
    "fruits = ['apple', 'banana', 'cherry']\n",
    "fruits.append('durian')\n",
    "print('added durian to fruits using append()', fruits)\n",
    "\n",
    "#2. Using the + operator\n",
    "fruits = ['apple', 'banana', 'cherry']\n",
    "fruits = fruits + ['durian']\n",
    "print('added durian to fruits using +', fruits)\n",
    "\n",
    "#3. Using the extend() method\n",
    "fruits = ['apple', 'banana', 'cherry']\n",
    "fruits.extend(['durian', 'elderberry'])\n",
    "print('added durian and elderberry to fruits using extend()', fruits)\n",
    "\n",
    "#4. Using the insert() method\n",
    "fruits = ['apple', 'banana', 'cherry']\n",
    "fruits.insert(1, 'durian')\n",
    "print('added durian to fruits using insert()', fruits)\n",
    "\n",
    "# Difference between append() and insert() - \n",
    "# append() adds an item to the end of the list\n",
    "# insert() adds an item at a specific index\n",
    "\n",
    "# Difference between extend() and append() - \n",
    "# extend() adds all the items in the list passed to it\n",
    "# append() adds the item passed to it\n",
    "\n",
    "# Eg: \n",
    "fruits = ['apple', 'banana', 'cherry']\n",
    "fruits.extend(['durian', 'elderberry'])\n",
    "print('added durian and elderberry to fruits using extend()', fruits)\n",
    "\n",
    "fruits = ['apple', 'banana', 'cherry']\n",
    "fruits.append(['durian', 'elderberry'])\n",
    "print('added durian and elderberry to fruits using append()', fruits)"
   ]
  },
  {
   "cell_type": "code",
   "execution_count": null,
   "metadata": {},
   "outputs": [],
   "source": []
  }
 ],
 "metadata": {
  "kernelspec": {
   "display_name": "myenv",
   "language": "python",
   "name": "python3"
  },
  "language_info": {
   "codemirror_mode": {
    "name": "ipython",
    "version": 3
   },
   "file_extension": ".py",
   "mimetype": "text/x-python",
   "name": "python",
   "nbconvert_exporter": "python",
   "pygments_lexer": "ipython3",
   "version": "3.12.4"
  }
 },
 "nbformat": 4,
 "nbformat_minor": 2
}
