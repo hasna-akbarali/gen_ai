{
 "cells": [
  {
   "cell_type": "code",
   "execution_count": null,
   "metadata": {},
   "outputs": [
    {
     "name": "stdout",
     "output_type": "stream",
     "text": [
      "age:  32\n",
      "height:  4.12\n",
      "name:  Hasna\n",
      "is_developer:  True\n"
     ]
    }
   ],
   "source": [
    "# Declaring and assigning variables\n",
    "\n",
    "age = 32\n",
    "height = 1.75\n",
    "name = \"Hasna\"\n",
    "is_developer = True\n",
    "\n",
    "print(\"age: \",age)\n",
    "print(\"height: \",height)\n",
    "print(\"name: \",name)\n",
    "print(\"is_developer: \",is_developer)\n"
   ]
  },
  {
   "cell_type": "code",
   "execution_count": 4,
   "metadata": {},
   "outputs": [
    {
     "name": "stdout",
     "output_type": "stream",
     "text": [
      "True\n"
     ]
    }
   ],
   "source": [
    "# Naming conventions for variables\n",
    "# Variables should be descriptive and meaningful.\n",
    "name = \"Hasna\"\n",
    "# Variable names should be lowercase and use underscores to separate words.\n",
    "first_name = \"Hasna\"\n",
    "# Variable names can contain letters, numbers, and underscores.\n",
    "name_1 = \"Hasna\"\n",
    "# Variable names should not start with a number.\n",
    "# Variables are case-sensitive.\n",
    "name = \"Hasna\"\n",
    "NAME = \"Hasna\"\n",
    "print(name == NAME)\n",
    "# No Special Characters except underscores"
   ]
  },
  {
   "cell_type": "code",
   "execution_count": null,
   "metadata": {},
   "outputs": [
    {
     "name": "stdout",
     "output_type": "stream",
     "text": [
      "age 27 <class 'int'>\n",
      "height 1.85 <class 'float'>\n",
      "name Hasna <class 'str'>\n",
      "is_developer True <class 'bool'>\n"
     ]
    }
   ],
   "source": [
    "# Data type of the variable is automatically determined by the value assigned to it.\n",
    "# Python is a dynamically typed language, which means that the data type of a variable can change during the execution of a program.\n",
    "\n",
    "age = 27\n",
    "height = 1.85\n",
    "name = \"Hasna\"\n",
    "is_developer = True\n",
    "\n",
    "print('age', age, type(age))\n",
    "print('height',height, type(height))\n",
    "print('name', name, type(name))\n",
    "print('is_developer', is_developer, type(is_developer))"
   ]
  },
  {
   "cell_type": "code",
   "execution_count": 7,
   "metadata": {},
   "outputs": [
    {
     "name": "stdout",
     "output_type": "stream",
     "text": [
      "<class 'int'>\n",
      "<class 'str'>\n"
     ]
    }
   ],
   "source": [
    "# Type checking and type conversion\n",
    "\n",
    "age = 27\n",
    "print(type(age))\n",
    "age = str(age)\n",
    "print(type(age))"
   ]
  },
  {
   "cell_type": "code",
   "execution_count": 8,
   "metadata": {},
   "outputs": [
    {
     "name": "stdout",
     "output_type": "stream",
     "text": [
      "<class 'str'>\n",
      "<class 'int'>\n",
      "<class 'bool'>\n",
      "<class 'NoneType'>\n"
     ]
    }
   ],
   "source": [
    "# Dynamic Typing\n",
    "# Python allows you to change the type of a variable at any time.\n",
    "\n",
    "var = 'kitten'\n",
    "print(type(var))\n",
    "\n",
    "var = 123\n",
    "print(type(var))\n",
    "\n",
    "var = True\n",
    "print(type(var))\n",
    "\n",
    "var = None\n",
    "print(type(var))"
   ]
  },
  {
   "cell_type": "code",
   "execution_count": 14,
   "metadata": {},
   "outputs": [
    {
     "name": "stdout",
     "output_type": "stream",
     "text": [
      "Hasna <class 'str'>\n",
      "27 <class 'int'>\n"
     ]
    }
   ],
   "source": [
    "# Reading input from the user\n",
    "\n",
    "name = input(\"What is your name? \")\n",
    "print(name, type(name))\n",
    "\n",
    "# Use eval() just to be sure about the type of the variable\n",
    "age = eval(input(\"What is your age? \"))\n",
    "print(age, type(age))"
   ]
  },
  {
   "cell_type": "code",
   "execution_count": 15,
   "metadata": {},
   "outputs": [
    {
     "name": "stdout",
     "output_type": "stream",
     "text": [
      "The sum is: 25.0\n",
      "The difference is: 21.0\n",
      "The product is: 46.0\n",
      "The quotient is: 11.5\n",
      "The power is: 529.0\n"
     ]
    }
   ],
   "source": [
    "# Simple Calculator\n",
    "\n",
    "# Ask the user for two numbers\n",
    "num1 = float(input(\"Enter the first number: \"))\n",
    "num2 = float(input(\"Enter the second number: \"))\n",
    "\n",
    "# Calculate the sum\n",
    "sum = num1 + num2\n",
    "diff = num1 - num2\n",
    "product = num1 * num2\n",
    "quotient = num1 / num2\n",
    "power = num1 ** num2\n",
    "\n",
    "# Print the result\n",
    "print(\"The sum is:\", sum)   \n",
    "print(\"The difference is:\", diff)\n",
    "print(\"The product is:\", product)\n",
    "print(\"The quotient is:\", quotient)\n",
    "print(\"The power is:\", power)"
   ]
  },
  {
   "cell_type": "code",
   "execution_count": null,
   "metadata": {},
   "outputs": [],
   "source": []
  }
 ],
 "metadata": {
  "kernelspec": {
   "display_name": "myenv",
   "language": "python",
   "name": "python3"
  },
  "language_info": {
   "codemirror_mode": {
    "name": "ipython",
    "version": 3
   },
   "file_extension": ".py",
   "mimetype": "text/x-python",
   "name": "python",
   "nbconvert_exporter": "python",
   "pygments_lexer": "ipython3",
   "version": "3.12.4"
  }
 },
 "nbformat": 4,
 "nbformat_minor": 2
}
