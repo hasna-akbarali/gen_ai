{
 "cells": [
  {
   "cell_type": "code",
   "execution_count": 4,
   "metadata": {},
   "outputs": [
    {
     "name": "stdout",
     "output_type": "stream",
     "text": [
      "You are allowed to vote.\n",
      "You are not allowed to vote.\n",
      "You are a senior citizen.\n"
     ]
    }
   ],
   "source": [
    "# Conditional statements\n",
    "\n",
    "# If statements - if the condition is true, execute the code inside the if block\n",
    "\n",
    "age = 34\n",
    "if age > 18:\n",
    "    print(\"You are allowed to vote.\")\n"
   ]
  },
  {
   "cell_type": "code",
   "execution_count": 5,
   "metadata": {},
   "outputs": [
    {
     "name": "stdout",
     "output_type": "stream",
     "text": [
      "You are not allowed to vote.\n"
     ]
    }
   ],
   "source": [
    "# If-else statements - if the condition is true, execute the code inside the if block, otherwise execute the code inside the else block\n",
    "\n",
    "age = 14\n",
    "if age > 18:\n",
    "    print(\"You are allowed to vote.\")\n",
    "else:\n",
    "    print(\"You are not allowed to vote.\")"
   ]
  },
  {
   "cell_type": "code",
   "execution_count": 6,
   "metadata": {},
   "outputs": [
    {
     "name": "stdout",
     "output_type": "stream",
     "text": [
      "You are a senior citizen.\n"
     ]
    }
   ],
   "source": [
    "# If-elif-else statements - if the first condition is true, execute the code inside the if block, if the second condition is true, execute the code inside the elif block, otherwise execute the code inside the else block\n",
    "\n",
    "age = int(input('Enter your age:'))\n",
    "\n",
    "if age < 20:\n",
    "    print('You are a child.')\n",
    "elif age < 18:\n",
    "    print('You are a teenager.')\n",
    "elif age < 65:\n",
    "    print('You are an adult.')\n",
    "else:\n",
    "    print('You are a senior citizen.')"
   ]
  },
  {
   "cell_type": "code",
   "execution_count": null,
   "metadata": {},
   "outputs": [
    {
     "name": "stdout",
     "output_type": "stream",
     "text": [
      "The second number is even.\n"
     ]
    }
   ],
   "source": [
    "# Nested if statements\n",
    "\n",
    "# You can nest if statements inside each other\n",
    "\n",
    "num1 = float(input(\"Enter the first number: \"))\n",
    "num2 = float(input(\"Enter the second number: \"))\n",
    "\n",
    "if num1 > num2:\n",
    "    if num1 % 2 == 0:\n",
    "        print(\"The first number is even.\")\n",
    "    else:\n",
    "        print(\"The first number is odd.\")\n",
    "elif num2 > num1:\n",
    "    if num2 % 2 == 0:\n",
    "        print(\"The second number is even.\")\n",
    "    else:\n",
    "        print(\"The second number is odd.\")\n",
    "else:\n",
    "    print(\"The numbers are equal.\")"
   ]
  },
  {
   "cell_type": "code",
   "execution_count": 8,
   "metadata": {},
   "outputs": [
    {
     "name": "stdout",
     "output_type": "stream",
     "text": [
      "This is not a leap year.\n"
     ]
    }
   ],
   "source": [
    "# Usecase of conditional statements\n",
    "\n",
    "# Check if a year is a leap year using nested if-else statements\n",
    "\n",
    "year = int(input(\"Enter a year: \"))\n",
    "\n",
    "if year%4 == 0:\n",
    "    if year%100 == 0:\n",
    "        if year%400 == 0:\n",
    "            print(\"This is a leap year.\")\n",
    "        else:\n",
    "            print(\"This is not a leap year.\")\n",
    "    else:\n",
    "        print(\"This is a leap year.\")\n",
    "else:\n",
    "    print(\"This is not a leap year.\")"
   ]
  },
  {
   "cell_type": "code",
   "execution_count": 10,
   "metadata": {},
   "outputs": [
    {
     "name": "stdout",
     "output_type": "stream",
     "text": [
      "The floor division quotient is: 1.0\n"
     ]
    }
   ],
   "source": [
    "# Calculator\n",
    "\n",
    "num1 = float(input(\"Enter the first number: \"))\n",
    "num2 = float(input(\"Enter the second number: \"))\n",
    "operator = input(\"Enter the operator (+, -, *, /, //, % or **): \")\n",
    "\n",
    "if operator == \"+\":\n",
    "    sum = num1 + num2\n",
    "    print(\"The sum is:\", sum)\n",
    "elif operator == \"-\":\n",
    "    diff = num1 - num2\n",
    "    print(\"The difference is:\", diff)\n",
    "elif operator == \"*\":\n",
    "    product = num1 * num2\n",
    "    print(\"The product is:\", product)\n",
    "elif operator == \"/\":\n",
    "    quotient = num1 / num2\n",
    "    print(\"The quotient is:\", quotient)\n",
    "elif operator == \"//\":\n",
    "    quotient = num1 // num2\n",
    "    print(\"The floor division quotient is:\", quotient)\n",
    "elif operator == \"%\":\n",
    "    remainder = num1 % num2\n",
    "    print(\"The remainder is:\", remainder)\n",
    "elif operator == \"**\":\n",
    "    power = num1 ** num2\n",
    "    print(\"The power is:\", power)\n",
    "else:\n",
    "    print(\"Invalid operator.\")"
   ]
  },
  {
   "cell_type": "code",
   "execution_count": null,
   "metadata": {},
   "outputs": [],
   "source": []
  }
 ],
 "metadata": {
  "kernelspec": {
   "display_name": "myenv",
   "language": "python",
   "name": "python3"
  },
  "language_info": {
   "codemirror_mode": {
    "name": "ipython",
    "version": 3
   },
   "file_extension": ".py",
   "mimetype": "text/x-python",
   "name": "python",
   "nbconvert_exporter": "python",
   "pygments_lexer": "ipython3",
   "version": "3.12.4"
  }
 },
 "nbformat": 4,
 "nbformat_minor": 2
}
