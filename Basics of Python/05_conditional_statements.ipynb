{
 "cells": [
  {
   "cell_type": "code",
   "execution_count": 4,
   "metadata": {},
   "outputs": [
    {
     "name": "stdout",
     "output_type": "stream",
     "text": [
      "You are allowed to vote.\n",
      "You are not allowed to vote.\n",
      "You are a senior citizen.\n"
     ]
    }
   ],
   "source": [
    "# Conditional statements\n",
    "\n",
    "# If statements - if the condition is true, execute the code inside the if block\n",
    "\n",
    "age = 34\n",
    "if age > 18:\n",
    "    print(\"You are allowed to vote.\")\n"
   ]
  },
  {
   "cell_type": "code",
   "execution_count": 5,
   "metadata": {},
   "outputs": [
    {
     "name": "stdout",
     "output_type": "stream",
     "text": [
      "You are not allowed to vote.\n"
     ]
    }
   ],
   "source": [
    "# If-else statements - if the condition is true, execute the code inside the if block, otherwise execute the code inside the else block\n",
    "\n",
    "age = 14\n",
    "if age > 18:\n",
    "    print(\"You are allowed to vote.\")\n",
    "else:\n",
    "    print(\"You are not allowed to vote.\")"
   ]
  },
  {
   "cell_type": "code",
   "execution_count": 6,
   "metadata": {},
   "outputs": [
    {
     "name": "stdout",
     "output_type": "stream",
     "text": [
      "You are a senior citizen.\n"
     ]
    }
   ],
   "source": [
    "# If-elif-else statements - if the first condition is true, execute the code inside the if block, if the second condition is true, execute the code inside the elif block, otherwise execute the code inside the else block\n",
    "\n",
    "age = int(input('Enter your age:'))\n",
    "\n",
    "if age < 20:\n",
    "    print('You are a child.')\n",
    "elif age < 18:\n",
    "    print('You are a teenager.')\n",
    "elif age < 65:\n",
    "    print('You are an adult.')\n",
    "else:\n",
    "    print('You are a senior citizen.')"
   ]
  },
  {
   "cell_type": "code",
   "execution_count": null,
   "metadata": {},
   "outputs": [],
   "source": []
  }
 ],
 "metadata": {
  "kernelspec": {
   "display_name": "myenv",
   "language": "python",
   "name": "python3"
  },
  "language_info": {
   "codemirror_mode": {
    "name": "ipython",
    "version": 3
   },
   "file_extension": ".py",
   "mimetype": "text/x-python",
   "name": "python",
   "nbconvert_exporter": "python",
   "pygments_lexer": "ipython3",
   "version": "3.12.4"
  }
 },
 "nbformat": 4,
 "nbformat_minor": 2
}
