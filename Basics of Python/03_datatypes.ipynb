{
 "cells": [
  {
   "cell_type": "code",
   "execution_count": null,
   "metadata": {},
   "outputs": [],
   "source": [
    "# DataTypes - classifying data\n",
    "\n",
    "age = 27\n",
    "height = 1.85\n",
    "name = \"Hasna\"\n",
    "is_developer = True\n",
    "\n",
    "print('age', age, type(age))\n",
    "print('height',height, type(height))\n",
    "print('name', name, type(name))\n",
    "print('is_developer', is_developer, type(is_developer))"
   ]
  },
  {
   "cell_type": "code",
   "execution_count": null,
   "metadata": {},
   "outputs": [],
   "source": []
  },
  {
   "cell_type": "code",
   "execution_count": null,
   "metadata": {},
   "outputs": [],
   "source": []
  }
 ],
 "metadata": {
  "kernelspec": {
   "display_name": "myenv",
   "language": "python",
   "name": "python3"
  },
  "language_info": {
   "name": "python",
   "version": "3.12.4"
  }
 },
 "nbformat": 4,
 "nbformat_minor": 2
}
