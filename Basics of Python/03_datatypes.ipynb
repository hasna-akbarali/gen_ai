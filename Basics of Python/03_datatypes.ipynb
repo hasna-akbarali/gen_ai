{
 "cells": [
  {
   "cell_type": "code",
   "execution_count": null,
   "metadata": {},
   "outputs": [],
   "source": [
    "# DataTypes - classifying data\n",
    "\n",
    "age = 27\n",
    "height = 1.85\n",
    "name = \"Hasna\"\n",
    "is_developer = True\n",
    "\n",
    "print('age', age, type(age))\n",
    "print('height',height, type(height))\n",
    "print('name', name, type(name))\n",
    "print('is_developer', is_developer, type(is_developer))"
   ]
  },
  {
   "cell_type": "code",
   "execution_count": 1,
   "metadata": {},
   "outputs": [
    {
     "name": "stdout",
     "output_type": "stream",
     "text": [
      "Hasna Hasna Hasna Hasna Hasna \n"
     ]
    }
   ],
   "source": [
    "repeat_str = \"Hasna \"*5\n",
    "print(repeat_str)"
   ]
  },
  {
   "cell_type": "code",
   "execution_count": 3,
   "metadata": {},
   "outputs": [
    {
     "name": "stdout",
     "output_type": "stream",
     "text": [
      "True\n"
     ]
    }
   ],
   "source": [
    "check_val = 5 == 5\n",
    "print(check_val)"
   ]
  },
  {
   "cell_type": "code",
   "execution_count": null,
   "metadata": {},
   "outputs": [],
   "source": []
  }
 ],
 "metadata": {
  "kernelspec": {
   "display_name": "myenv",
   "language": "python",
   "name": "python3"
  },
  "language_info": {
   "codemirror_mode": {
    "name": "ipython",
    "version": 3
   },
   "file_extension": ".py",
   "mimetype": "text/x-python",
   "name": "python",
   "nbconvert_exporter": "python",
   "pygments_lexer": "ipython3",
   "version": "3.12.4"
  }
 },
 "nbformat": 4,
 "nbformat_minor": 2
}
