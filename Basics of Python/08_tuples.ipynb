{
 "cells": [
  {
   "cell_type": "code",
   "execution_count": 13,
   "metadata": {},
   "outputs": [
    {
     "name": "stdout",
     "output_type": "stream",
     "text": [
      "() <class 'tuple'>\n",
      "[1, 2, 3, 4, 5] <class 'list'>\n",
      "(1, 2, 3, 4, 5) <class 'tuple'>\n",
      "(1, 2, 3, 4, 5) <class 'tuple'>\n",
      "(1, 2, 3, 4, 5) <class 'tuple'>\n"
     ]
    }
   ],
   "source": [
    "# Tuple - is a collection of data that are immutable\n",
    "\n",
    "# Create a tuple\n",
    "\n",
    "# empty tuple\n",
    "sample_tuple = ()\n",
    "print(sample_tuple, type(sample_tuple))\n",
    "\n",
    "# create a list and convert it to tuple using tuple() function\n",
    "# you can convert tuple into a list as well\n",
    "sample_list = [1, 2, 3, 4, 5]\n",
    "print(sample_list, type(sample_list))\n",
    "sample_tuple = tuple(sample_list)\n",
    "print(sample_tuple, type(sample_tuple))\n",
    "\n",
    "# create a tuple using eval\n",
    "sample_tuple = eval('(1, 2, 3, 4, 5)')\n",
    "print(sample_tuple, type(sample_tuple))\n",
    "\n",
    "# different data types can be used in tuple\n",
    "mixed_tuple = (1, 2.0, 'hello', True)\n",
    "print(sample_tuple, type(sample_tuple))"
   ]
  },
  {
   "cell_type": "code",
   "execution_count": 14,
   "metadata": {},
   "outputs": [
    {
     "name": "stdout",
     "output_type": "stream",
     "text": [
      "5\n",
      "2\n",
      "(5, 4, 3, 2, 1)\n"
     ]
    }
   ],
   "source": [
    "# Access a tuple element\n",
    "\n",
    "print(sample_tuple[-1])\n",
    "print(sample_tuple[1])\n",
    "print(sample_tuple[::-1])"
   ]
  },
  {
   "cell_type": "code",
   "execution_count": 17,
   "metadata": {},
   "outputs": [
    {
     "name": "stdout",
     "output_type": "stream",
     "text": [
      "(1, 2, 3, 4, 5, 1, 2.0, 'hello', True)\n",
      "(1, 2, 3, 4, 5, 1, 2, 3, 4, 5, 1, 2, 3, 4, 5)\n",
      "(1, 2.0, 'hello', True, 1, 2.0, 'hello', True, 1, 2.0, 'hello', True)\n"
     ]
    }
   ],
   "source": [
    "# Tuple Operations\n",
    "\n",
    "print(sample_tuple+mixed_tuple)\n",
    "\n",
    "print(sample_tuple*3)\n",
    "print(mixed_tuple*3)"
   ]
  },
  {
   "cell_type": "code",
   "execution_count": null,
   "metadata": {},
   "outputs": [
    {
     "ename": "TypeError",
     "evalue": "'tuple' object does not support item assignment",
     "output_type": "error",
     "traceback": [
      "\u001b[31m---------------------------------------------------------------------------\u001b[39m",
      "\u001b[31mTypeError\u001b[39m                                 Traceback (most recent call last)",
      "\u001b[36mCell\u001b[39m\u001b[36m \u001b[39m\u001b[32mIn[18]\u001b[39m\u001b[32m, line 5\u001b[39m\n\u001b[32m      1\u001b[39m \u001b[38;5;66;03m# Immutable nature of tuples\u001b[39;00m\n\u001b[32m      2\u001b[39m \n\u001b[32m      3\u001b[39m \u001b[38;5;66;03m# You cant change the values of a tuple.\u001b[39;00m\n\u001b[32m----> \u001b[39m\u001b[32m5\u001b[39m \u001b[43msample_tuple\u001b[49m\u001b[43m[\u001b[49m\u001b[32;43m1\u001b[39;49m\u001b[43m]\u001b[49m = \u001b[33m\"\u001b[39m\u001b[33m100\u001b[39m\u001b[33m\"\u001b[39m\n",
      "\u001b[31mTypeError\u001b[39m: 'tuple' object does not support item assignment"
     ]
    }
   ],
   "source": [
    "# # Immutable nature of tuples\n",
    "\n",
    "# # You cant change the values of a tuple.\n",
    "\n",
    "# sample_tuple[1] = \"100\" # not allowed\n",
    "\n",
    "# sample_list[1] = 100\n",
    "# sample_list\n",
    "\n",
    "# when you want to change the values of a tuple, you have to create a new list from the tuple and change the values of the list.\n",
    "\n"
   ]
  },
  {
   "cell_type": "code",
   "execution_count": 32,
   "metadata": {},
   "outputs": [
    {
     "name": "stdout",
     "output_type": "stream",
     "text": [
      "(1, 2, 3, 4, 5, 1, 2)\n",
      "2\n",
      "0\n"
     ]
    }
   ],
   "source": [
    "# Methods in tuple\n",
    "sample_tuple = sample_tuple+(1,2)\n",
    "print(sample_tuple)\n",
    "print(sample_tuple.count(1))\n",
    "print(sample_tuple.index(1))"
   ]
  },
  {
   "cell_type": "code",
   "execution_count": 37,
   "metadata": {},
   "outputs": [
    {
     "name": "stdout",
     "output_type": "stream",
     "text": [
      "(1, 'hello', True) <class 'tuple'>\n",
      "1 hello True\n",
      "1 [2, 3, 4, 5, 6, 7, 8, 9] 10\n"
     ]
    }
   ],
   "source": [
    "# Packing a tuple\n",
    "packed_tuple = 1,\"hello\",True\n",
    "print(packed_tuple, type(packed_tuple))\n",
    "\n",
    "# Unpacking a tuple\n",
    "a,b,c = packed_tuple\n",
    "print(a,b,c)\n",
    "\n",
    "# Unpacking a tuple with *\n",
    "sample_tuple = (1,2,3,4,5,6,7,8,9,10)\n",
    "a,*b,c = sample_tuple\n",
    "print(a,b,c)"
   ]
  },
  {
   "cell_type": "code",
   "execution_count": 42,
   "metadata": {},
   "outputs": [
    {
     "name": "stdout",
     "output_type": "stream",
     "text": [
      "([1, 2, 3, 4], (3, 4), True, 3.14)\n",
      "2\n",
      "[4, 3, 2, 1]\n"
     ]
    }
   ],
   "source": [
    "# Nested Tuple\n",
    "\n",
    "sample_nested = ([1, 2, 3, 4], (3, 4), True, 3.14)\n",
    "print(sample_nested)\n",
    "print(sample_nested[0][1])\n",
    "print(sample_nested[0][::-1])"
   ]
  },
  {
   "cell_type": "code",
   "execution_count": null,
   "metadata": {},
   "outputs": [],
   "source": []
  }
 ],
 "metadata": {
  "kernelspec": {
   "display_name": "myenv",
   "language": "python",
   "name": "python3"
  },
  "language_info": {
   "codemirror_mode": {
    "name": "ipython",
    "version": 3
   },
   "file_extension": ".py",
   "mimetype": "text/x-python",
   "name": "python",
   "nbconvert_exporter": "python",
   "pygments_lexer": "ipython3",
   "version": "3.12.4"
  }
 },
 "nbformat": 4,
 "nbformat_minor": 2
}
