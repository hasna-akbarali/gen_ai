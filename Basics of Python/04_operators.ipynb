{
 "cells": [
  {
   "cell_type": "code",
   "execution_count": null,
   "metadata": {},
   "outputs": [
    {
     "name": "stdout",
     "output_type": "stream",
     "text": [
      "15 5 50 2.0 0 2 100000\n"
     ]
    }
   ],
   "source": [
    "# Arithmetic operators\n",
    "\n",
    "num1 = 10\n",
    "num2 = 5\n",
    "\n",
    "sum = num1 + num2 # Addition\n",
    "difference = num1 - num2 # Subtraction\n",
    "product = num1 * num2   # Multiplication\n",
    "quotient = num1 / num2   # Division\n",
    "remainder = num1 % num2   # Remainder\n",
    "floor_division = num1 // num2  # Floor division ( Gives result after removing the decimal part )\n",
    "exponent = num1 ** num2  # Exponent\n",
    "\n",
    "print(sum, difference, product, quotient, remainder, floor_division, exponent)"
   ]
  },
  {
   "cell_type": "code",
   "execution_count": 4,
   "metadata": {},
   "outputs": [
    {
     "name": "stdout",
     "output_type": "stream",
     "text": [
      "True\n",
      "False\n",
      "True\n",
      "False\n",
      "False\n",
      "True\n"
     ]
    }
   ],
   "source": [
    "# Comparison Operators\n",
    "\n",
    "# Greater than\n",
    "print(5 > 3)\n",
    "\n",
    "# Less than\n",
    "print(5 < 3)\n",
    "\n",
    "# Greater than or equal to\n",
    "print(5 >= 3)\n",
    "\n",
    "# Less than or equal to\n",
    "print(5 <= 3)\n",
    "\n",
    "# Equal to\n",
    "print(5 == 3)\n",
    "\n",
    "# Not equal to\n",
    "print(5 != 3)\n"
   ]
  },
  {
   "cell_type": "code",
   "execution_count": 5,
   "metadata": {},
   "outputs": [
    {
     "name": "stdout",
     "output_type": "stream",
     "text": [
      "False\n",
      "True\n",
      "False\n"
     ]
    }
   ],
   "source": [
    "# Logical operators\n",
    "\n",
    "a = True\n",
    "b = False\n",
    "\n",
    "print(a and b)\n",
    "print(a or b)\n",
    "print(not a)"
   ]
  },
  {
   "cell_type": "code",
   "execution_count": 6,
   "metadata": {},
   "outputs": [
    {
     "name": "stdout",
     "output_type": "stream",
     "text": [
      "The sum is: 15.0\n",
      "The difference is: 11.0\n",
      "The product is: 26.0\n",
      "The quotient is: 6.5\n",
      "The power is: 169.0\n",
      "The floor division is: 6.0\n",
      "The modulus is: 1.0\n"
     ]
    }
   ],
   "source": [
    "# Simple Calculator\n",
    "\n",
    "# Ask the user for two numbers\n",
    "num1 = float(input(\"Enter the first number: \"))\n",
    "num2 = float(input(\"Enter the second number: \"))\n",
    "\n",
    "# Calculate the sum\n",
    "sum = num1 + num2\n",
    "diff = num1 - num2\n",
    "product = num1 * num2\n",
    "quotient = num1 / num2\n",
    "power = num1 ** num2\n",
    "floor_division = num1 // num2\n",
    "modulus = num1 % num2\n",
    "\n",
    "# Print the result\n",
    "print(\"The sum is:\", sum)   \n",
    "print(\"The difference is:\", diff)\n",
    "print(\"The product is:\", product)\n",
    "print(\"The quotient is:\", quotient)\n",
    "print(\"The power is:\", power)\n",
    "print(\"The floor division is:\", floor_division)\n",
    "print(\"The modulus is:\", modulus)\n"
   ]
  },
  {
   "cell_type": "code",
   "execution_count": null,
   "metadata": {},
   "outputs": [],
   "source": []
  }
 ],
 "metadata": {
  "kernelspec": {
   "display_name": "myenv",
   "language": "python",
   "name": "python3"
  },
  "language_info": {
   "codemirror_mode": {
    "name": "ipython",
    "version": 3
   },
   "file_extension": ".py",
   "mimetype": "text/x-python",
   "name": "python",
   "nbconvert_exporter": "python",
   "pygments_lexer": "ipython3",
   "version": "3.12.4"
  }
 },
 "nbformat": 4,
 "nbformat_minor": 2
}
