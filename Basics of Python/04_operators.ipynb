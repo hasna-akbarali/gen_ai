{
 "cells": [
  {
   "cell_type": "code",
   "execution_count": null,
   "metadata": {},
   "outputs": [
    {
     "name": "stdout",
     "output_type": "stream",
     "text": [
      "15 5 50 2.0 0 2 100000\n"
     ]
    }
   ],
   "source": [
    "# Arithmetic operators\n",
    "\n",
    "num1 = 10\n",
    "num2 = 5\n",
    "\n",
    "sum = num1 + num2 # Addition\n",
    "difference = num1 - num2 # Subtraction\n",
    "product = num1 * num2   # Multiplication\n",
    "quotient = num1 / num2   # Division\n",
    "remainder = num1 % num2   # Remainder\n",
    "floor_division = num1 // num2  # Floor division ( Gives result after removing the decimal part )\n",
    "exponent = num1 ** num2  # Exponent\n",
    "\n",
    "print(sum, difference, product, quotient, remainder, floor_division, exponent)"
   ]
  },
  {
   "cell_type": "code",
   "execution_count": null,
   "metadata": {},
   "outputs": [],
   "source": [
    "# Comparison Operators\n",
    "\n"
   ]
  }
 ],
 "metadata": {
  "kernelspec": {
   "display_name": "myenv",
   "language": "python",
   "name": "python3"
  },
  "language_info": {
   "codemirror_mode": {
    "name": "ipython",
    "version": 3
   },
   "file_extension": ".py",
   "mimetype": "text/x-python",
   "name": "python",
   "nbconvert_exporter": "python",
   "pygments_lexer": "ipython3",
   "version": "3.12.4"
  }
 },
 "nbformat": 4,
 "nbformat_minor": 2
}
