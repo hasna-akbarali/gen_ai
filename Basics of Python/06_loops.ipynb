{
 "cells": [
  {
   "cell_type": "code",
   "execution_count": 6,
   "metadata": {},
   "outputs": [
    {
     "name": "stdout",
     "output_type": "stream",
     "text": [
      "0\n",
      "1\n",
      "2\n",
      "3\n",
      "4\n",
      "--------------------\n",
      "1\n",
      "2\n",
      "3\n",
      "4\n",
      "5\n",
      "--------------------\n",
      "1\n",
      "3\n",
      "5\n",
      "7\n",
      "9\n",
      "--------------------\n",
      "10\n",
      "8\n",
      "6\n",
      "4\n",
      "2\n"
     ]
    }
   ],
   "source": [
    "# For loop\n",
    "# range() function is used to generate a sequence of numbers\n",
    "\n",
    "for i in range(5):\n",
    "    print(i)\n",
    "\n",
    "print('-'*20)\n",
    "\n",
    "for i in range(1, 6):\n",
    "    print(i)\n",
    "\n",
    "print('-'*20)\n",
    "\n",
    "for i in range(1, 10, 2):\n",
    "    print(i)\n",
    "\n",
    "print('-'*20)\n",
    "\n",
    "for i in range(10, 0, -2):\n",
    "    print(i)"
   ]
  },
  {
   "cell_type": "code",
   "execution_count": null,
   "metadata": {},
   "outputs": [
    {
     "ename": "TypeError",
     "evalue": "'str' object does not support item assignment",
     "output_type": "error",
     "traceback": [
      "\u001b[31m---------------------------------------------------------------------------\u001b[39m",
      "\u001b[31mTypeError\u001b[39m                                 Traceback (most recent call last)",
      "\u001b[36mCell\u001b[39m\u001b[36m \u001b[39m\u001b[32mIn[12]\u001b[39m\u001b[32m, line 5\u001b[39m\n\u001b[32m      2\u001b[39m name = \u001b[33m\"\u001b[39m\u001b[33mhasna\u001b[39m\u001b[33m\"\u001b[39m\n\u001b[32m      4\u001b[39m \u001b[38;5;28;01mfor\u001b[39;00m i \u001b[38;5;129;01min\u001b[39;00m \u001b[38;5;28mrange\u001b[39m(\u001b[38;5;28mlen\u001b[39m(name)):\n\u001b[32m----> \u001b[39m\u001b[32m5\u001b[39m     \u001b[43mname\u001b[49m\u001b[43m[\u001b[49m\u001b[43mi\u001b[49m\u001b[43m]\u001b[49m = name[i].upper()\n\u001b[32m      7\u001b[39m \u001b[38;5;28mprint\u001b[39m(name)\n",
      "\u001b[31mTypeError\u001b[39m: 'str' object does not support item assignment"
     ]
    }
   ],
   "source": [
    "# You cannot change the value of a string\n",
    "name = \"hasna\"\n",
    "\n",
    "for i in range(len(name)):\n",
    "    name[i] = name[i].upper()\n",
    "\n",
    "print(name)\n",
    "\n",
    "# You can change the value of a number\n",
    "num = 5\n",
    "\n",
    "for i in range(num):\n",
    "    num = num*10\n",
    "\n",
    "print(num)"
   ]
  },
  {
   "cell_type": "code",
   "execution_count": 13,
   "metadata": {},
   "outputs": [
    {
     "name": "stdout",
     "output_type": "stream",
     "text": [
      "1\n",
      "2\n",
      "3\n",
      "4\n",
      "5\n",
      "6\n",
      "7\n",
      "8\n",
      "9\n",
      "10\n"
     ]
    }
   ],
   "source": [
    "# While loop\n",
    "\n",
    "# Ask the user for a number\n",
    "num = int(input(\"Enter a number: \"))\n",
    "\n",
    "# Initialize a counter variable\n",
    "count = 0\n",
    "\n",
    "# Use a while loop to print the numbers from 1 to the user's input\n",
    "while count < num:\n",
    "    print(count + 1)\n",
    "    count += 1"
   ]
  },
  {
   "cell_type": "code",
   "execution_count": null,
   "metadata": {},
   "outputs": [],
   "source": []
  },
  {
   "cell_type": "code",
   "execution_count": null,
   "metadata": {},
   "outputs": [],
   "source": []
  }
 ],
 "metadata": {
  "kernelspec": {
   "display_name": "myenv",
   "language": "python",
   "name": "python3"
  },
  "language_info": {
   "codemirror_mode": {
    "name": "ipython",
    "version": 3
   },
   "file_extension": ".py",
   "mimetype": "text/x-python",
   "name": "python",
   "nbconvert_exporter": "python",
   "pygments_lexer": "ipython3",
   "version": "3.12.4"
  }
 },
 "nbformat": 4,
 "nbformat_minor": 2
}
